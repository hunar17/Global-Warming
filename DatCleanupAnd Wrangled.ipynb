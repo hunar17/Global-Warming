{
 "metadata": {
  "language_info": {
   "codemirror_mode": {
    "name": "ipython",
    "version": 3
   },
   "file_extension": ".py",
   "mimetype": "text/x-python",
   "name": "python",
   "nbconvert_exporter": "python",
   "pygments_lexer": "ipython3",
   "version": "3.7.4-final"
  },
  "orig_nbformat": 2,
  "kernelspec": {
   "name": "python_defaultSpec_1599583529776",
   "display_name": "Python 3"
  }
 },
 "nbformat": 4,
 "nbformat_minor": 2,
 "cells": [
  {
   "cell_type": "code",
   "execution_count": 2,
   "metadata": {},
   "outputs": [],
   "source": [
    "import pandas as pd"
   ]
  },
  {
   "cell_type": "code",
   "execution_count": null,
   "metadata": {},
   "outputs": [],
   "source": [
    "readData= pd.read_csv('GlobalLandTemperatures_GlobalLandTemperaturesByState.csv')\n",
    "Data1= pd.DataFrame(readData)   \n",
    "Data1"
   ]
  },
  {
   "cell_type": "code",
   "execution_count": null,
   "metadata": {},
   "outputs": [],
   "source": [
    "Data1= Data1.drop(Data1[(Data1.Country != 'India') & (Data1.Country !='Brazil') & (Data1.Country !='United States')].index)\n",
    "Data1"
   ]
  },
  {
   "cell_type": "code",
   "execution_count": null,
   "metadata": {},
   "outputs": [],
   "source": [
    "Data1['dt']= pd.to_datetime(Data1['dt'])\n",
    "start_date='1900-01-01'\n",
    "Data1=Data1.loc[(Data1['dt'] > start_date)]\n",
    "Data1"
   ]
  },
  {
   "cell_type": "code",
   "execution_count": null,
   "metadata": {},
   "outputs": [],
   "source": [
    "Data1=Data1.dropna()"
   ]
  },
  {
   "cell_type": "code",
   "execution_count": null,
   "metadata": {},
   "outputs": [],
   "source": [
    "Data1.to_csv('New GlobalLand After cleaning.csv')\n",
    "Data1.isnull().sum()"
   ]
  },
  {
   "cell_type": "code",
   "execution_count": 125,
   "metadata": {},
   "outputs": [
    {
     "output_type": "execute_result",
     "data": {
      "text/plain": "                         Country  Population (People)\nYear                                                 \n1960-01-01           Afghanistan            8774440.0\n1961-01-01           Afghanistan            8953544.0\n1962-01-01           Afghanistan            9141783.0\n1963-01-01           Afghanistan            9339507.0\n1964-01-01           Afghanistan            9547131.0\n...                          ...                  ...\n2008-01-01  Bosnia & Herzegovina            3861201.0\n2009-01-01  Bosnia & Herzegovina            3853446.0\n2010-01-01  Bosnia & Herzegovina            3845929.0\n2011-01-01  Bosnia & Herzegovina            3839322.0\n2012-01-01  Bosnia & Herzegovina            3833916.0\n\n[9964 rows x 2 columns]",
      "text/html": "<div>\n<style scoped>\n    .dataframe tbody tr th:only-of-type {\n        vertical-align: middle;\n    }\n\n    .dataframe tbody tr th {\n        vertical-align: top;\n    }\n\n    .dataframe thead th {\n        text-align: right;\n    }\n</style>\n<table border=\"1\" class=\"dataframe\">\n  <thead>\n    <tr style=\"text-align: right;\">\n      <th></th>\n      <th>Country</th>\n      <th>Population (People)</th>\n    </tr>\n    <tr>\n      <th>Year</th>\n      <th></th>\n      <th></th>\n    </tr>\n  </thead>\n  <tbody>\n    <tr>\n      <th>1960-01-01</th>\n      <td>Afghanistan</td>\n      <td>8774440.0</td>\n    </tr>\n    <tr>\n      <th>1961-01-01</th>\n      <td>Afghanistan</td>\n      <td>8953544.0</td>\n    </tr>\n    <tr>\n      <th>1962-01-01</th>\n      <td>Afghanistan</td>\n      <td>9141783.0</td>\n    </tr>\n    <tr>\n      <th>1963-01-01</th>\n      <td>Afghanistan</td>\n      <td>9339507.0</td>\n    </tr>\n    <tr>\n      <th>1964-01-01</th>\n      <td>Afghanistan</td>\n      <td>9547131.0</td>\n    </tr>\n    <tr>\n      <th>...</th>\n      <td>...</td>\n      <td>...</td>\n    </tr>\n    <tr>\n      <th>2008-01-01</th>\n      <td>Bosnia &amp; Herzegovina</td>\n      <td>3861201.0</td>\n    </tr>\n    <tr>\n      <th>2009-01-01</th>\n      <td>Bosnia &amp; Herzegovina</td>\n      <td>3853446.0</td>\n    </tr>\n    <tr>\n      <th>2010-01-01</th>\n      <td>Bosnia &amp; Herzegovina</td>\n      <td>3845929.0</td>\n    </tr>\n    <tr>\n      <th>2011-01-01</th>\n      <td>Bosnia &amp; Herzegovina</td>\n      <td>3839322.0</td>\n    </tr>\n    <tr>\n      <th>2012-01-01</th>\n      <td>Bosnia &amp; Herzegovina</td>\n      <td>3833916.0</td>\n    </tr>\n  </tbody>\n</table>\n<p>9964 rows × 2 columns</p>\n</div>"
     },
     "metadata": {},
     "execution_count": 125
    }
   ],
   "source": [
    "read_data = pd.read_csv('Data.csv', parse_dates = [\"Year\"], skiprows=1, index_col = 'Year')\n",
    "data = pd.DataFrame(read_data ,columns=['Country', 'Population (People)'])\n",
    "\n",
    "data\n"
   ]
  },
  {
   "cell_type": "code",
   "execution_count": 152,
   "metadata": {},
   "outputs": [],
   "source": [
    "\n",
    "country = ['India', 'Brazil', 'United States']\n",
    "data1 = data[data.index >= '1990']\n",
    "filter = data1[data1.Country.isin(country)]\n",
    "filter\n",
    "filter.to_csv(\"SocioEconomicDataCleaned.csv\")\n",
    "\n"
   ]
  },
  {
   "cell_type": "code",
   "execution_count": 159,
   "metadata": {},
   "outputs": [
    {
     "output_type": "execute_result",
     "data": {
      "text/plain": "                      Country  CO2Emissions \nYear                                        \n1850-01-01        Afghanistan            NaN\n1850-01-01            Albania            NaN\n1850-01-01            Algeria            NaN\n1850-01-01             Angola            NaN\n1850-01-01  Antigua & Barbuda            NaN\n...                       ...            ...\n2012-01-01            Vietnam       173.0497\n2012-01-01              World     33843.0497\n2012-01-01              Yemen        20.5386\n2012-01-01             Zambia         2.7600\n2012-01-01           Zimbabwe         9.9800\n\n[30644 rows x 2 columns]",
      "text/html": "<div>\n<style scoped>\n    .dataframe tbody tr th:only-of-type {\n        vertical-align: middle;\n    }\n\n    .dataframe tbody tr th {\n        vertical-align: top;\n    }\n\n    .dataframe thead th {\n        text-align: right;\n    }\n</style>\n<table border=\"1\" class=\"dataframe\">\n  <thead>\n    <tr style=\"text-align: right;\">\n      <th></th>\n      <th>Country</th>\n      <th>CO2Emissions</th>\n    </tr>\n    <tr>\n      <th>Year</th>\n      <th></th>\n      <th></th>\n    </tr>\n  </thead>\n  <tbody>\n    <tr>\n      <th>1850-01-01</th>\n      <td>Afghanistan</td>\n      <td>NaN</td>\n    </tr>\n    <tr>\n      <th>1850-01-01</th>\n      <td>Albania</td>\n      <td>NaN</td>\n    </tr>\n    <tr>\n      <th>1850-01-01</th>\n      <td>Algeria</td>\n      <td>NaN</td>\n    </tr>\n    <tr>\n      <th>1850-01-01</th>\n      <td>Angola</td>\n      <td>NaN</td>\n    </tr>\n    <tr>\n      <th>1850-01-01</th>\n      <td>Antigua &amp; Barbuda</td>\n      <td>NaN</td>\n    </tr>\n    <tr>\n      <th>...</th>\n      <td>...</td>\n      <td>...</td>\n    </tr>\n    <tr>\n      <th>2012-01-01</th>\n      <td>Vietnam</td>\n      <td>173.0497</td>\n    </tr>\n    <tr>\n      <th>2012-01-01</th>\n      <td>World</td>\n      <td>33843.0497</td>\n    </tr>\n    <tr>\n      <th>2012-01-01</th>\n      <td>Yemen</td>\n      <td>20.5386</td>\n    </tr>\n    <tr>\n      <th>2012-01-01</th>\n      <td>Zambia</td>\n      <td>2.7600</td>\n    </tr>\n    <tr>\n      <th>2012-01-01</th>\n      <td>Zimbabwe</td>\n      <td>9.9800</td>\n    </tr>\n  </tbody>\n</table>\n<p>30644 rows × 2 columns</p>\n</div>"
     },
     "metadata": {},
     "execution_count": 159
    }
   ],
   "source": [
    "read_data = pd.read_csv('CO2Emission.csv', parse_dates = [\"Year\"], skiprows=1, index_col = 'Year')\n",
    "data_emission = pd.DataFrame(read_data)\n",
    "data_emission"
   ]
  },
  {
   "cell_type": "code",
   "execution_count": 168,
   "metadata": {},
   "outputs": [],
   "source": [
    "country = ['India', 'Brazil', 'United States']\n",
    "data_filter = data_emission[data_emission.index >= '1990']\n",
    "data_filter\n",
    "filter_new = data_filter[data_filter.Country.isin(country)]\n",
    "filter_new\n",
    "filter_new.to_csv(\"CO2EmissionCleaned.csv\")"
   ]
  },
  {
   "cell_type": "code",
   "execution_count": 31,
   "metadata": {},
   "outputs": [],
   "source": [
    "df1 = data_records.dropna(subset = data_records.columns[[2]], how = 'any')\n",
    "df1.reset_index(drop=True, inplace=True)\n",
    "df1.to_csv(\"CO2EmissionCleaned.csv\")\n"
   ]
  },
  {
   "cell_type": "code",
   "execution_count": 204,
   "metadata": {},
   "outputs": [
    {
     "output_type": "execute_result",
     "data": {
      "text/plain": "                  Country  Deforestration\nYear                                     \n1900-01-01         Brazil          520027\n1901-01-01         Brazil          520027\n1902-01-01         Brazil          520027\n1903-01-01         Brazil          520027\n1904-01-01         Brazil          520027\n...                   ...             ...\n2008-01-01  United States          268648\n2009-01-01  United States          268648\n2010-01-01  United States          268648\n2011-01-01  United States          268648\n2012-01-01  United States          268648\n\n[339 rows x 2 columns]",
      "text/html": "<div>\n<style scoped>\n    .dataframe tbody tr th:only-of-type {\n        vertical-align: middle;\n    }\n\n    .dataframe tbody tr th {\n        vertical-align: top;\n    }\n\n    .dataframe thead th {\n        text-align: right;\n    }\n</style>\n<table border=\"1\" class=\"dataframe\">\n  <thead>\n    <tr style=\"text-align: right;\">\n      <th></th>\n      <th>Country</th>\n      <th>Deforestration</th>\n    </tr>\n    <tr>\n      <th>Year</th>\n      <th></th>\n      <th></th>\n    </tr>\n  </thead>\n  <tbody>\n    <tr>\n      <th>1900-01-01</th>\n      <td>Brazil</td>\n      <td>520027</td>\n    </tr>\n    <tr>\n      <th>1901-01-01</th>\n      <td>Brazil</td>\n      <td>520027</td>\n    </tr>\n    <tr>\n      <th>1902-01-01</th>\n      <td>Brazil</td>\n      <td>520027</td>\n    </tr>\n    <tr>\n      <th>1903-01-01</th>\n      <td>Brazil</td>\n      <td>520027</td>\n    </tr>\n    <tr>\n      <th>1904-01-01</th>\n      <td>Brazil</td>\n      <td>520027</td>\n    </tr>\n    <tr>\n      <th>...</th>\n      <td>...</td>\n      <td>...</td>\n    </tr>\n    <tr>\n      <th>2008-01-01</th>\n      <td>United States</td>\n      <td>268648</td>\n    </tr>\n    <tr>\n      <th>2009-01-01</th>\n      <td>United States</td>\n      <td>268648</td>\n    </tr>\n    <tr>\n      <th>2010-01-01</th>\n      <td>United States</td>\n      <td>268648</td>\n    </tr>\n    <tr>\n      <th>2011-01-01</th>\n      <td>United States</td>\n      <td>268648</td>\n    </tr>\n    <tr>\n      <th>2012-01-01</th>\n      <td>United States</td>\n      <td>268648</td>\n    </tr>\n  </tbody>\n</table>\n<p>339 rows × 2 columns</p>\n</div>"
     },
     "metadata": {},
     "execution_count": 204
    }
   ],
   "source": [
    "read_data1 = pd.read_csv('Deforestation_data.csv', parse_dates = [\"Year\"],index_col = 'Year')\n",
    "data = pd.DataFrame(read_data1, columns=['Country', 'Deforestration'])\n",
    "data"
   ]
  },
  {
   "cell_type": "code",
   "execution_count": 205,
   "metadata": {},
   "outputs": [
    {
     "output_type": "execute_result",
     "data": {
      "text/plain": "                  Country  CO2Emissions   Population (People)  Deforestration\nYear                                                                         \n1990-01-01         Brazil       207.9560         1.496483e+08          520027\n1990-01-01          India       614.9176         8.688907e+08           63939\n1990-01-01  United States      4912.6814         2.496230e+08          298648\n1991-01-01         Brazil       214.9880         1.521535e+08          520027\n1991-01-01          India       658.4543         8.863487e+08           63939\n...                   ...            ...                  ...             ...\n2011-01-01          India      1950.0610         1.221156e+09           27701\n2011-01-01  United States      5334.3187         3.115826e+08          268648\n2012-01-01         Brazil       477.7701         1.986560e+08          417698\n2012-01-01          India      2075.1808         1.236687e+09           27701\n2012-01-01  United States      5122.9094         3.138737e+08          268648\n\n[69 rows x 4 columns]",
      "text/html": "<div>\n<style scoped>\n    .dataframe tbody tr th:only-of-type {\n        vertical-align: middle;\n    }\n\n    .dataframe tbody tr th {\n        vertical-align: top;\n    }\n\n    .dataframe thead th {\n        text-align: right;\n    }\n</style>\n<table border=\"1\" class=\"dataframe\">\n  <thead>\n    <tr style=\"text-align: right;\">\n      <th></th>\n      <th>Country</th>\n      <th>CO2Emissions</th>\n      <th>Population (People)</th>\n      <th>Deforestration</th>\n    </tr>\n    <tr>\n      <th>Year</th>\n      <th></th>\n      <th></th>\n      <th></th>\n      <th></th>\n    </tr>\n  </thead>\n  <tbody>\n    <tr>\n      <th>1990-01-01</th>\n      <td>Brazil</td>\n      <td>207.9560</td>\n      <td>1.496483e+08</td>\n      <td>520027</td>\n    </tr>\n    <tr>\n      <th>1990-01-01</th>\n      <td>India</td>\n      <td>614.9176</td>\n      <td>8.688907e+08</td>\n      <td>63939</td>\n    </tr>\n    <tr>\n      <th>1990-01-01</th>\n      <td>United States</td>\n      <td>4912.6814</td>\n      <td>2.496230e+08</td>\n      <td>298648</td>\n    </tr>\n    <tr>\n      <th>1991-01-01</th>\n      <td>Brazil</td>\n      <td>214.9880</td>\n      <td>1.521535e+08</td>\n      <td>520027</td>\n    </tr>\n    <tr>\n      <th>1991-01-01</th>\n      <td>India</td>\n      <td>658.4543</td>\n      <td>8.863487e+08</td>\n      <td>63939</td>\n    </tr>\n    <tr>\n      <th>...</th>\n      <td>...</td>\n      <td>...</td>\n      <td>...</td>\n      <td>...</td>\n    </tr>\n    <tr>\n      <th>2011-01-01</th>\n      <td>India</td>\n      <td>1950.0610</td>\n      <td>1.221156e+09</td>\n      <td>27701</td>\n    </tr>\n    <tr>\n      <th>2011-01-01</th>\n      <td>United States</td>\n      <td>5334.3187</td>\n      <td>3.115826e+08</td>\n      <td>268648</td>\n    </tr>\n    <tr>\n      <th>2012-01-01</th>\n      <td>Brazil</td>\n      <td>477.7701</td>\n      <td>1.986560e+08</td>\n      <td>417698</td>\n    </tr>\n    <tr>\n      <th>2012-01-01</th>\n      <td>India</td>\n      <td>2075.1808</td>\n      <td>1.236687e+09</td>\n      <td>27701</td>\n    </tr>\n    <tr>\n      <th>2012-01-01</th>\n      <td>United States</td>\n      <td>5122.9094</td>\n      <td>3.138737e+08</td>\n      <td>268648</td>\n    </tr>\n  </tbody>\n</table>\n<p>69 rows × 4 columns</p>\n</div>"
     },
     "metadata": {},
     "execution_count": 205
    }
   ],
   "source": [
    "read_data = pd.read_csv('CO2EmissionCleaned.csv', parse_dates = [\"Year\"], index_col = 'Year')\n",
    "read_seconddata= pd.read_csv('SocioEconomicDataCleaned.csv', parse_dates = [\"Year\"], index_col = 'Year')\n",
    "read_thirddata= pd.read_csv('Deforestation_data.csv', parse_dates = [\"Year\"], index_col = 'Year')\n",
    "df1 = pd.DataFrame(read_data)\n",
    "df2= pd.DataFrame(read_seconddata)\n",
    "df3= pd.DataFrame(read_thirddata)\n",
    "result = pd.merge(df1, df2, on = ['Year', 'Country'], how = 'inner')\n",
    "result1 = pd.merge(result, df3, on = ['Year', 'Country'], how = 'inner')\n",
    "result1\n",
    "\n"
   ]
  },
  {
   "cell_type": "code",
   "execution_count": 209,
   "metadata": {},
   "outputs": [],
   "source": [
    "result1.to_csv('result.csv')"
   ]
  },
  {
   "cell_type": "code",
   "execution_count": 1,
   "metadata": {},
   "outputs": [
    {
     "output_type": "error",
     "ename": "NameError",
     "evalue": "name 'result1' is not defined",
     "traceback": [
      "\u001b[1;31m---------------------------------------------------------------------------\u001b[0m",
      "\u001b[1;31mNameError\u001b[0m                                 Traceback (most recent call last)",
      "\u001b[1;32m<ipython-input-1-a751a0a5e950>\u001b[0m in \u001b[0;36m<module>\u001b[1;34m\u001b[0m\n\u001b[1;32m----> 1\u001b[1;33m \u001b[0mresult1\u001b[0m\u001b[1;33m\u001b[0m\u001b[1;33m\u001b[0m\u001b[0m\n\u001b[0m",
      "\u001b[1;31mNameError\u001b[0m: name 'result1' is not defined"
     ]
    }
   ],
   "source": [
    "result1"
   ]
  },
  {
   "cell_type": "code",
   "execution_count": null,
   "metadata": {},
   "outputs": [],
   "source": []
  }
 ]
}