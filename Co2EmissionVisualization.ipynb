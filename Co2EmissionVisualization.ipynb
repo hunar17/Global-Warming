{
 "cells": [
  {
   "cell_type": "code",
   "execution_count": 2,
   "metadata": {},
   "outputs": [],
   "source": [
    "import pandas as pd\n",
    "import matplotlib.pyplot as plt\n",
    "import seaborn as sns"
   ]
  },
  {
   "cell_type": "code",
   "execution_count": 17,
   "metadata": {},
   "outputs": [
    {
     "data": {
      "text/html": [
       "<div>\n",
       "<style scoped>\n",
       "    .dataframe tbody tr th:only-of-type {\n",
       "        vertical-align: middle;\n",
       "    }\n",
       "\n",
       "    .dataframe tbody tr th {\n",
       "        vertical-align: top;\n",
       "    }\n",
       "\n",
       "    .dataframe thead th {\n",
       "        text-align: right;\n",
       "    }\n",
       "</style>\n",
       "<table border=\"1\" class=\"dataframe\">\n",
       "  <thead>\n",
       "    <tr style=\"text-align: right;\">\n",
       "      <th></th>\n",
       "      <th>Unnamed: 0</th>\n",
       "      <th>Country</th>\n",
       "      <th>Year</th>\n",
       "      <th>CO2Emissions</th>\n",
       "    </tr>\n",
       "  </thead>\n",
       "  <tbody>\n",
       "    <tr>\n",
       "      <th>0</th>\n",
       "      <td>9422</td>\n",
       "      <td>Brazil</td>\n",
       "      <td>1900</td>\n",
       "      <td>NaN</td>\n",
       "    </tr>\n",
       "    <tr>\n",
       "      <th>1</th>\n",
       "      <td>9477</td>\n",
       "      <td>India</td>\n",
       "      <td>1900</td>\n",
       "      <td>13.0512</td>\n",
       "    </tr>\n",
       "    <tr>\n",
       "      <th>2</th>\n",
       "      <td>9578</td>\n",
       "      <td>United States</td>\n",
       "      <td>1900</td>\n",
       "      <td>662.7370</td>\n",
       "    </tr>\n",
       "    <tr>\n",
       "      <th>3</th>\n",
       "      <td>9610</td>\n",
       "      <td>Brazil</td>\n",
       "      <td>1901</td>\n",
       "      <td>2.1031</td>\n",
       "    </tr>\n",
       "    <tr>\n",
       "      <th>4</th>\n",
       "      <td>9665</td>\n",
       "      <td>India</td>\n",
       "      <td>1901</td>\n",
       "      <td>14.3959</td>\n",
       "    </tr>\n",
       "    <tr>\n",
       "      <th>...</th>\n",
       "      <td>...</td>\n",
       "      <td>...</td>\n",
       "      <td>...</td>\n",
       "      <td>...</td>\n",
       "    </tr>\n",
       "    <tr>\n",
       "      <th>334</th>\n",
       "      <td>30345</td>\n",
       "      <td>India</td>\n",
       "      <td>2011</td>\n",
       "      <td>1950.0610</td>\n",
       "    </tr>\n",
       "    <tr>\n",
       "      <th>335</th>\n",
       "      <td>30446</td>\n",
       "      <td>United States</td>\n",
       "      <td>2011</td>\n",
       "      <td>5334.3187</td>\n",
       "    </tr>\n",
       "    <tr>\n",
       "      <th>336</th>\n",
       "      <td>30478</td>\n",
       "      <td>Brazil</td>\n",
       "      <td>2012</td>\n",
       "      <td>477.7701</td>\n",
       "    </tr>\n",
       "    <tr>\n",
       "      <th>337</th>\n",
       "      <td>30533</td>\n",
       "      <td>India</td>\n",
       "      <td>2012</td>\n",
       "      <td>2075.1808</td>\n",
       "    </tr>\n",
       "    <tr>\n",
       "      <th>338</th>\n",
       "      <td>30634</td>\n",
       "      <td>United States</td>\n",
       "      <td>2012</td>\n",
       "      <td>5122.9094</td>\n",
       "    </tr>\n",
       "  </tbody>\n",
       "</table>\n",
       "<p>339 rows × 4 columns</p>\n",
       "</div>"
      ],
      "text/plain": [
       "     Unnamed: 0        Country  Year  CO2Emissions\n",
       "0          9422         Brazil  1900           NaN\n",
       "1          9477          India  1900       13.0512\n",
       "2          9578  United States  1900      662.7370\n",
       "3          9610         Brazil  1901        2.1031\n",
       "4          9665          India  1901       14.3959\n",
       "..          ...            ...   ...           ...\n",
       "334       30345          India  2011     1950.0610\n",
       "335       30446  United States  2011     5334.3187\n",
       "336       30478         Brazil  2012      477.7701\n",
       "337       30533          India  2012     2075.1808\n",
       "338       30634  United States  2012     5122.9094\n",
       "\n",
       "[339 rows x 4 columns]"
      ]
     },
     "execution_count": 17,
     "metadata": {},
     "output_type": "execute_result"
    }
   ],
   "source": [
    "data = pd.read_csv(\"CO2EmissionCleaned.csv\")\n",
    "data = data.rename(columns={'CO2Emissions ': 'CO2Emissions'})\n",
    "\n",
    "data\n"
   ]
  },
  {
   "cell_type": "code",
   "execution_count": 18,
   "metadata": {},
   "outputs": [
    {
     "data": {
      "image/png": "[encoded data removed]",
      "text/plain": [
       "<Figure size 432x288 with 1 Axes>"
      ]
     },
     "metadata": {
      "needs_background": "light"
     },
     "output_type": "display_data"
    }
   ],
   "source": [
    "Df_India = data[data.Country == 'India']\n",
    "Df_Brazil = data[data.Country == 'Brazil']\n",
    "Df_US = data[data.Country == 'United States']\n",
    "\n",
    "x = Df_India.Year\n",
    "y = Df_India.CO2Emissions\n",
    "\n",
    "x1 = Df_Brazil\n",
    "y1 = Df_Brazil.CO2Emissions\n",
    "\n",
    "x2 = Df_US\n",
    "y2 = Df_US.CO2Emissions\n",
    "\n",
    "\n",
    "plt.plot(x,y,ls = \"solid\" ,color = \"red\",marker='o', markerfacecolor='black', markeredgewidth=2,\n",
    "         markersize=5, markevery=10)\n",
    "plt.plot(x,y1,ls =\"solid\" ,color = \"green\", marker='o', markerfacecolor='black', markeredgewidth=2,\n",
    "         markersize=5, markevery=10)\n",
    "plt.plot(x,y2,ls = \"solid\" ,color = \"blue\", marker='o', markerfacecolor='black', markeredgewidth=2,\n",
    "         markersize= 6, markevery=10)\n",
    "\n",
    "\n",
    "plt.legend([\"India\",\"Brazil\",\"United States\"], loc = \"best\")\n",
    "plt.xlabel(\"Year\", fontsize=15, color = \"black\")\n",
    "plt.ylabel(\"CO2 Emissions\", fontsize=15, color = \"black\")\n",
    "plt.title(\"CO2 Emission 1900-2012\", fontsize=18)\n",
    "plt.show()"
   ]
  }
 ],
 "metadata": {
  "kernelspec": {
   "display_name": "Python 3",
   "language": "python",
   "name": "python3"
  },
  "language_info": {
   "codemirror_mode": {
    "name": "ipython",
    "version": 3
   },
   "file_extension": ".py",
   "mimetype": "text/x-python",
   "name": "python",
   "nbconvert_exporter": "python",
   "pygments_lexer": "ipython3",
   "version": "3.8.0"
  }
 },
 "nbformat": 4,
 "nbformat_minor": 2
}
