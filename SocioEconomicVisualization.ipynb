{
 "cells": [
  {
   "cell_type": "code",
   "execution_count": 2,
   "metadata": {},
   "outputs": [],
   "source": [
    "\n",
    "import pandas as pd\n",
    "import matplotlib.pyplot as plt\n",
    "import seaborn as sns"
   ]
  },
  {
   "cell_type": "code",
   "execution_count": 43,
   "metadata": {},
   "outputs": [
    {
     "data": {
      "text/html": [
       "<div>\n",
       "<style scoped>\n",
       "    .dataframe tbody tr th:only-of-type {\n",
       "        vertical-align: middle;\n",
       "    }\n",
       "\n",
       "    .dataframe tbody tr th {\n",
       "        vertical-align: top;\n",
       "    }\n",
       "\n",
       "    .dataframe thead th {\n",
       "        text-align: right;\n",
       "    }\n",
       "</style>\n",
       "<table border=\"1\" class=\"dataframe\">\n",
       "  <thead>\n",
       "    <tr style=\"text-align: right;\">\n",
       "      <th></th>\n",
       "      <th>Unnamed: 0</th>\n",
       "      <th>Country</th>\n",
       "      <th>Year</th>\n",
       "      <th>Population</th>\n",
       "    </tr>\n",
       "  </thead>\n",
       "  <tbody>\n",
       "    <tr>\n",
       "      <th>0</th>\n",
       "      <td>424</td>\n",
       "      <td>Brazil</td>\n",
       "      <td>1960</td>\n",
       "      <td>72775883</td>\n",
       "    </tr>\n",
       "    <tr>\n",
       "      <th>1</th>\n",
       "      <td>425</td>\n",
       "      <td>Brazil</td>\n",
       "      <td>1961</td>\n",
       "      <td>74988037</td>\n",
       "    </tr>\n",
       "    <tr>\n",
       "      <th>2</th>\n",
       "      <td>426</td>\n",
       "      <td>Brazil</td>\n",
       "      <td>1962</td>\n",
       "      <td>77286629</td>\n",
       "    </tr>\n",
       "    <tr>\n",
       "      <th>3</th>\n",
       "      <td>427</td>\n",
       "      <td>Brazil</td>\n",
       "      <td>1963</td>\n",
       "      <td>79643017</td>\n",
       "    </tr>\n",
       "    <tr>\n",
       "      <th>4</th>\n",
       "      <td>428</td>\n",
       "      <td>Brazil</td>\n",
       "      <td>1964</td>\n",
       "      <td>82017016</td>\n",
       "    </tr>\n",
       "    <tr>\n",
       "      <th>...</th>\n",
       "      <td>...</td>\n",
       "      <td>...</td>\n",
       "      <td>...</td>\n",
       "      <td>...</td>\n",
       "    </tr>\n",
       "    <tr>\n",
       "      <th>154</th>\n",
       "      <td>8634</td>\n",
       "      <td>United States</td>\n",
       "      <td>2008</td>\n",
       "      <td>304093966</td>\n",
       "    </tr>\n",
       "    <tr>\n",
       "      <th>155</th>\n",
       "      <td>8635</td>\n",
       "      <td>United States</td>\n",
       "      <td>2009</td>\n",
       "      <td>306771529</td>\n",
       "    </tr>\n",
       "    <tr>\n",
       "      <th>156</th>\n",
       "      <td>8636</td>\n",
       "      <td>United States</td>\n",
       "      <td>2010</td>\n",
       "      <td>309326295</td>\n",
       "    </tr>\n",
       "    <tr>\n",
       "      <th>157</th>\n",
       "      <td>8637</td>\n",
       "      <td>United States</td>\n",
       "      <td>2011</td>\n",
       "      <td>311582564</td>\n",
       "    </tr>\n",
       "    <tr>\n",
       "      <th>158</th>\n",
       "      <td>8638</td>\n",
       "      <td>United States</td>\n",
       "      <td>2012</td>\n",
       "      <td>313873685</td>\n",
       "    </tr>\n",
       "  </tbody>\n",
       "</table>\n",
       "<p>159 rows × 4 columns</p>\n",
       "</div>"
      ],
      "text/plain": [
       "     Unnamed: 0        Country  Year  Population\n",
       "0           424         Brazil  1960    72775883\n",
       "1           425         Brazil  1961    74988037\n",
       "2           426         Brazil  1962    77286629\n",
       "3           427         Brazil  1963    79643017\n",
       "4           428         Brazil  1964    82017016\n",
       "..          ...            ...   ...         ...\n",
       "154        8634  United States  2008   304093966\n",
       "155        8635  United States  2009   306771529\n",
       "156        8636  United States  2010   309326295\n",
       "157        8637  United States  2011   311582564\n",
       "158        8638  United States  2012   313873685\n",
       "\n",
       "[159 rows x 4 columns]"
      ]
     },
     "execution_count": 43,
     "metadata": {},
     "output_type": "execute_result"
    }
   ],
   "source": [
    "data = pd.read_csv(\"SocioEconomicDataCleaned.csv\")\n",
    "data = data.rename(columns={'Population (People)': 'Population'})\n",
    "data"
   ]
  },
  {
   "cell_type": "code",
   "execution_count": 44,
   "metadata": {},
   "outputs": [
    {
     "data": {
      "image/png": "[encoded data removed]",
      "text/plain": [
       "<Figure size 432x288 with 1 Axes>"
      ]
     },
     "metadata": {
      "needs_background": "light"
     },
     "output_type": "display_data"
    }
   ],
   "source": [
    "Df_India = data[data.Country == 'India']\n",
    "Df_Brazil = data[data.Country == 'Brazil']\n",
    "Df_US = data[data.Country == 'United States']\n",
    "\n",
    "x = Df_India.Year\n",
    "y = Df_India.Population \n",
    "\n",
    "\n",
    "x1 = Df_Brazil\n",
    "y1 = Df_Brazil.Population\n",
    "\n",
    "x2 = Df_US\n",
    "y2 = Df_US.Population \n",
    "\n",
    "plt.plot(x,y,ls = \"solid\" ,color = \"red\",marker='o', markerfacecolor='black', markeredgewidth=2,\n",
    "         markersize=5, markevery=10)\n",
    "\n",
    "plt.plot(x,y1,ls =\"solid\" ,color = \"green\", marker='o', markerfacecolor='black', markeredgewidth=2,\n",
    "         markersize=5, markevery=10)\n",
    "plt.plot(x,y2,ls = \"solid\" ,color = \"blue\", marker='o', markerfacecolor='black', markeredgewidth=2,\n",
    "         markersize= 6, markevery=10)\n",
    "\n",
    "plt.legend([\"India\",\"Brazil\",\"United States\"], loc = \"best\")\n",
    "plt.xlabel(\"Year\", fontsize=15, color = \"black\")\n",
    "plt.ylabel(\"Population Growth\", fontsize=15, color = \"black\")\n",
    "plt.title(\"Population Growth 1960-2012\", fontsize=18)\n",
    "plt.show()"
   ]
  }
 ],
 "metadata": {
  "kernelspec": {
   "display_name": "Python 3",
   "language": "python",
   "name": "python3"
  },
  "language_info": {
   "codemirror_mode": {
    "name": "ipython",
    "version": 3
   },
   "file_extension": ".py",
   "mimetype": "text/x-python",
   "name": "python",
   "nbconvert_exporter": "python",
   "pygments_lexer": "ipython3",
   "version": "3.8.0"
  }
 },
 "nbformat": 4,
 "nbformat_minor": 2
}
