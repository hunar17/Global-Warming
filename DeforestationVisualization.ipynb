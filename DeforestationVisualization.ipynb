{
 "cells": [
  {
   "cell_type": "code",
   "execution_count": 1,
   "metadata": {},
   "outputs": [],
   "source": [
    "import pandas as pd\n",
    "import matplotlib.pyplot as plt\n",
    "import seaborn as sns"
   ]
  },
  {
   "cell_type": "code",
   "execution_count": 13,
   "metadata": {},
   "outputs": [
    {
     "output_type": "execute_result",
     "data": {
      "text/plain": "          Year        Country  CO2Emissions \n0   1990-01-01         Brazil       207.9560\n1   1990-01-01          India       614.9176\n2   1990-01-01  United States      4912.6814\n3   1991-01-01         Brazil       214.9880\n4   1991-01-01          India       658.4543\n..         ...            ...            ...\n64  2011-01-01          India      1950.0610\n65  2011-01-01  United States      5334.3187\n66  2012-01-01         Brazil       477.7701\n67  2012-01-01          India      2075.1808\n68  2012-01-01  United States      5122.9094\n\n[69 rows x 3 columns]",
      "text/html": "<div>\n<style scoped>\n    .dataframe tbody tr th:only-of-type {\n        vertical-align: middle;\n    }\n\n    .dataframe tbody tr th {\n        vertical-align: top;\n    }\n\n    .dataframe thead th {\n        text-align: right;\n    }\n</style>\n<table border=\"1\" class=\"dataframe\">\n  <thead>\n    <tr style=\"text-align: right;\">\n      <th></th>\n      <th>Year</th>\n      <th>Country</th>\n      <th>CO2Emissions</th>\n    </tr>\n  </thead>\n  <tbody>\n    <tr>\n      <th>0</th>\n      <td>1990-01-01</td>\n      <td>Brazil</td>\n      <td>207.9560</td>\n    </tr>\n    <tr>\n      <th>1</th>\n      <td>1990-01-01</td>\n      <td>India</td>\n      <td>614.9176</td>\n    </tr>\n    <tr>\n      <th>2</th>\n      <td>1990-01-01</td>\n      <td>United States</td>\n      <td>4912.6814</td>\n    </tr>\n    <tr>\n      <th>3</th>\n      <td>1991-01-01</td>\n      <td>Brazil</td>\n      <td>214.9880</td>\n    </tr>\n    <tr>\n      <th>4</th>\n      <td>1991-01-01</td>\n      <td>India</td>\n      <td>658.4543</td>\n    </tr>\n    <tr>\n      <th>...</th>\n      <td>...</td>\n      <td>...</td>\n      <td>...</td>\n    </tr>\n    <tr>\n      <th>64</th>\n      <td>2011-01-01</td>\n      <td>India</td>\n      <td>1950.0610</td>\n    </tr>\n    <tr>\n      <th>65</th>\n      <td>2011-01-01</td>\n      <td>United States</td>\n      <td>5334.3187</td>\n    </tr>\n    <tr>\n      <th>66</th>\n      <td>2012-01-01</td>\n      <td>Brazil</td>\n      <td>477.7701</td>\n    </tr>\n    <tr>\n      <th>67</th>\n      <td>2012-01-01</td>\n      <td>India</td>\n      <td>2075.1808</td>\n    </tr>\n    <tr>\n      <th>68</th>\n      <td>2012-01-01</td>\n      <td>United States</td>\n      <td>5122.9094</td>\n    </tr>\n  </tbody>\n</table>\n<p>69 rows × 3 columns</p>\n</div>"
     },
     "metadata": {},
     "execution_count": 13
    }
   ],
   "source": [
    "data = pd.read_csv(\"CO2EmissionCleaned.csv\")\n",
    "data\n"
   ]
  },
  {
   "cell_type": "code",
   "execution_count": 17,
   "metadata": {},
   "outputs": [
    {
     "output_type": "error",
     "ename": "AttributeError",
     "evalue": "'DataFrame' object has no attribute 'CO2Emissions'",
     "traceback": [
      "\u001b[1;31m---------------------------------------------------------------------------\u001b[0m",
      "\u001b[1;31mAttributeError\u001b[0m                            Traceback (most recent call last)",
      "\u001b[1;32m<ipython-input-17-c7d6d913968b>\u001b[0m in \u001b[0;36m<module>\u001b[1;34m\u001b[0m\n\u001b[0;32m      4\u001b[0m \u001b[1;33m\u001b[0m\u001b[0m\n\u001b[0;32m      5\u001b[0m \u001b[0mx\u001b[0m \u001b[1;33m=\u001b[0m \u001b[0mDf_India\u001b[0m\u001b[1;33m.\u001b[0m\u001b[0mYear\u001b[0m\u001b[1;33m\u001b[0m\u001b[1;33m\u001b[0m\u001b[0m\n\u001b[1;32m----> 6\u001b[1;33m \u001b[0my\u001b[0m \u001b[1;33m=\u001b[0m \u001b[0mDf_India\u001b[0m\u001b[1;33m.\u001b[0m\u001b[0mCO2Emissions\u001b[0m\u001b[1;33m\u001b[0m\u001b[1;33m\u001b[0m\u001b[0m\n\u001b[0m\u001b[0;32m      7\u001b[0m \u001b[1;33m\u001b[0m\u001b[0m\n\u001b[0;32m      8\u001b[0m \u001b[0mx1\u001b[0m \u001b[1;33m=\u001b[0m \u001b[0mDf_Brazil\u001b[0m\u001b[1;33m\u001b[0m\u001b[1;33m\u001b[0m\u001b[0m\n",
      "\u001b[1;32m~\\AppData\\Local\\Programs\\Python\\Python37-32\\lib\\site-packages\\pandas\\core\\generic.py\u001b[0m in \u001b[0;36m__getattr__\u001b[1;34m(self, name)\u001b[0m\n\u001b[0;32m   5128\u001b[0m             \u001b[1;32mif\u001b[0m \u001b[0mself\u001b[0m\u001b[1;33m.\u001b[0m\u001b[0m_info_axis\u001b[0m\u001b[1;33m.\u001b[0m\u001b[0m_can_hold_identifiers_and_holds_name\u001b[0m\u001b[1;33m(\u001b[0m\u001b[0mname\u001b[0m\u001b[1;33m)\u001b[0m\u001b[1;33m:\u001b[0m\u001b[1;33m\u001b[0m\u001b[1;33m\u001b[0m\u001b[0m\n\u001b[0;32m   5129\u001b[0m                 \u001b[1;32mreturn\u001b[0m \u001b[0mself\u001b[0m\u001b[1;33m[\u001b[0m\u001b[0mname\u001b[0m\u001b[1;33m]\u001b[0m\u001b[1;33m\u001b[0m\u001b[1;33m\u001b[0m\u001b[0m\n\u001b[1;32m-> 5130\u001b[1;33m             \u001b[1;32mreturn\u001b[0m \u001b[0mobject\u001b[0m\u001b[1;33m.\u001b[0m\u001b[0m__getattribute__\u001b[0m\u001b[1;33m(\u001b[0m\u001b[0mself\u001b[0m\u001b[1;33m,\u001b[0m \u001b[0mname\u001b[0m\u001b[1;33m)\u001b[0m\u001b[1;33m\u001b[0m\u001b[1;33m\u001b[0m\u001b[0m\n\u001b[0m\u001b[0;32m   5131\u001b[0m \u001b[1;33m\u001b[0m\u001b[0m\n\u001b[0;32m   5132\u001b[0m     \u001b[1;32mdef\u001b[0m \u001b[0m__setattr__\u001b[0m\u001b[1;33m(\u001b[0m\u001b[0mself\u001b[0m\u001b[1;33m,\u001b[0m \u001b[0mname\u001b[0m\u001b[1;33m:\u001b[0m \u001b[0mstr\u001b[0m\u001b[1;33m,\u001b[0m \u001b[0mvalue\u001b[0m\u001b[1;33m)\u001b[0m \u001b[1;33m->\u001b[0m \u001b[1;32mNone\u001b[0m\u001b[1;33m:\u001b[0m\u001b[1;33m\u001b[0m\u001b[1;33m\u001b[0m\u001b[0m\n",
      "\u001b[1;31mAttributeError\u001b[0m: 'DataFrame' object has no attribute 'CO2Emissions'"
     ]
    }
   ],
   "source": [
    "Df_India = data[data.Country == 'India']\n",
    "Df_Brazil = data[data.Country == 'Brazil']\n",
    "Df_US = data[data.Country == 'United States']\n",
    "\n",
    "x = Df_India.Year\n",
    "y = Df_India.CO2Emissions\n",
    "\n",
    "x1 = Df_Brazil\n",
    "y1 = Df_Brazil.CO2Emissions\n",
    "\n",
    "x2 = Df_US\n",
    "y2 = Df_US.CO2Emissions\n",
    "\n",
    "\n",
    "plt.plot(x,y,ls = \"solid\" ,color = \"red\",marker='o', markerfacecolor='black', markeredgewidth=2,\n",
    "         markersize=5, markevery=10)\n",
    "plt.plot(x,y1,ls =\"solid\" ,color = \"green\", marker='o', markerfacecolor='black', markeredgewidth=2,\n",
    "         markersize=5, markevery=10)\n",
    "plt.plot(x,y2,ls = \"solid\" ,color = \"blue\", marker='o', markerfacecolor='black', markeredgewidth=2,\n",
    "         markersize= 6, markevery=10)\n",
    "\n",
    "\n",
    "plt.legend([\"India\",\"Brazil\",\"United States\"], loc = \"best\")\n",
    "plt.xlabel(\"Year\", fontsize=15, color = \"black\")\n",
    "plt.ylabel(\"CO2 Emissions\", fontsize=15, color = \"black\")\n",
    "plt.title(\"CO2 Emission 1900-2012\", fontsize=18)\n",
    "plt.show()"
   ]
  },
  {
   "cell_type": "code",
   "execution_count": null,
   "metadata": {},
   "outputs": [],
   "source": [
    "df = pd.read_csv('Deforestation_data.csv')\n",
    "data = pd.DataFrame(df, columns=['Country','Year','Deforestration'])\n",
    "data"
   ]
  },
  {
   "cell_type": "code",
   "execution_count": null,
   "metadata": {},
   "outputs": [],
   "source": [
    "Df_India = data[data.Country == 'India']\n",
    "Df_Brazil = data[data.Country == 'Brazil']\n",
    "Df_US = data[data.Country == 'United States']\n",
    "\n",
    "x1 = Df_India.Year\n",
    "y1 = Df_India.Deforestration\n",
    "x2 = Df_Brazil.Year\n",
    "y2 = Df_Brazil.Deforestration\n",
    "x3 = Df_US.Year\n",
    "y3 = Df_US.Deforestration\n",
    "plt.xlabel('Number of Years', color = 'tab:red')\n",
    "plt.ylabel('Decline in Forest Cover', color = 'tab:red')\n",
    "plt.title('DEFORESTATION - PLOT', color = 'tab:red')\n",
    "plt.plot(x1,y1, color = 'red', marker = '1', lw = 3,)\n",
    "plt.plot(x2,y2, color = \"blue\", marker = '*', lw = 3 )\n",
    "plt.plot(x3,y3, color = \"green\", marker = '1', lw = 3)\n",
    "plt.legend([\"India\",\"Brazil\",\"USA\"], loc = \"upper center\")\n",
    "plt.show()"
   ]
  }
 ],
 "metadata": {
  "kernelspec": {
   "display_name": "Python 3.7.4 32-bit",
   "language": "python",
   "name": "python_defaultSpec_1599684391632"
  },
  "language_info": {
   "codemirror_mode": {
    "name": "ipython",
    "version": 3
   },
   "file_extension": ".py",
   "mimetype": "text/x-python",
   "name": "python",
   "nbconvert_exporter": "python",
   "pygments_lexer": "ipython3",
   "version": "3.7.4-final"
  }
 },
 "nbformat": 4,
 "nbformat_minor": 2
}